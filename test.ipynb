{
 "cells": [
  {
   "cell_type": "code",
   "execution_count": 1,
   "id": "4577c6bf",
   "metadata": {},
   "outputs": [],
   "source": [
    "import fastf1"
   ]
  },
  {
   "cell_type": "code",
   "execution_count": 2,
   "id": "330b2909",
   "metadata": {},
   "outputs": [],
   "source": [
    "fastf1.Cache.enable_cache('C:\\\\Users\\\\Soham\\\\Codes\\\\github repos\\\\f1_analysis\\\\cache')"
   ]
  },
  {
   "cell_type": "code",
   "execution_count": 6,
   "id": "1671b840",
   "metadata": {},
   "outputs": [
    {
     "name": "stdout",
     "output_type": "stream",
     "text": [
      "Events(2023)\n",
      "    EventDate                 EventName\n",
      "0  2023-02-25        Pre-Season Testing\n",
      "1  2023-03-05        Bahrain Grand Prix\n",
      "2  2023-03-19  Saudi Arabian Grand Prix\n",
      "3  2023-04-02     Australian Grand Prix\n",
      "4  2023-04-30     Azerbaijan Grand Prix\n",
      "5  2023-05-07          Miami Grand Prix\n",
      "6  2023-05-28         Monaco Grand Prix\n",
      "7  2023-06-04        Spanish Grand Prix\n",
      "8  2023-06-18       Canadian Grand Prix\n",
      "9  2023-07-02       Austrian Grand Prix\n",
      "10 2023-07-09        British Grand Prix\n",
      "11 2023-07-23      Hungarian Grand Prix\n",
      "12 2023-07-30        Belgian Grand Prix\n",
      "13 2023-08-27          Dutch Grand Prix\n",
      "14 2023-09-03        Italian Grand Prix\n",
      "15 2023-09-17      Singapore Grand Prix\n",
      "16 2023-09-24       Japanese Grand Prix\n",
      "17 2023-10-08          Qatar Grand Prix\n",
      "18 2023-10-22  United States Grand Prix\n",
      "19 2023-10-29    Mexico City Grand Prix\n",
      "20 2023-11-05      São Paulo Grand Prix\n",
      "21 2023-11-18      Las Vegas Grand Prix\n",
      "22 2023-11-26      Abu Dhabi Grand Prix\n"
     ]
    }
   ],
   "source": [
    "print(\"Events(2023)\")\n",
    "events = fastf1.get_event_schedule(2023)\n",
    "print(events[['EventDate', 'EventName']])"
   ]
  },
  {
   "cell_type": "code",
   "execution_count": 26,
   "id": "aa005401",
   "metadata": {},
   "outputs": [
    {
     "name": "stderr",
     "output_type": "stream",
     "text": [
      "core           INFO \tLoading data for Belgian Grand Prix - Race [v3.6.0]\n",
      "req            INFO \tNo cached data found for session_info. Loading data...\n",
      "_api           INFO \tFetching session info data...\n",
      "req            INFO \tData has been written to cache!\n",
      "req            INFO \tNo cached data found for driver_info. Loading data...\n",
      "_api           INFO \tFetching driver list...\n",
      "req            INFO \tData has been written to cache!\n",
      "req            INFO \tNo cached data found for session_status_data. Loading data...\n",
      "_api           INFO \tFetching session status data...\n",
      "req            INFO \tData has been written to cache!\n",
      "req            INFO \tNo cached data found for lap_count. Loading data...\n",
      "_api           INFO \tFetching lap count data...\n",
      "req            INFO \tData has been written to cache!\n",
      "req            INFO \tNo cached data found for track_status_data. Loading data...\n",
      "_api           INFO \tFetching track status data...\n",
      "req            INFO \tData has been written to cache!\n",
      "req            INFO \tNo cached data found for _extended_timing_data. Loading data...\n",
      "_api           INFO \tFetching timing data...\n",
      "_api           INFO \tParsing timing data...\n",
      "req            INFO \tData has been written to cache!\n",
      "req            INFO \tNo cached data found for timing_app_data. Loading data...\n",
      "_api           INFO \tFetching timing app data...\n",
      "req            INFO \tData has been written to cache!\n",
      "core           INFO \tProcessing timing data...\n",
      "core        WARNING \tFixed incorrect tyre stint information for driver '81'\n",
      "core        WARNING \tFixed incorrect tyre stint information for driver '4'\n",
      "core        WARNING \tFixed incorrect tyre stint information for driver '16'\n",
      "core        WARNING \tFixed incorrect tyre stint information for driver '1'\n",
      "core        WARNING \tFixed incorrect tyre stint information for driver '63'\n",
      "core        WARNING \tFixed incorrect tyre stint information for driver '23'\n",
      "core        WARNING \tFixed incorrect tyre stint information for driver '44'\n",
      "core        WARNING \tFixed incorrect tyre stint information for driver '30'\n",
      "core        WARNING \tFixed incorrect tyre stint information for driver '5'\n",
      "core        WARNING \tFixed incorrect tyre stint information for driver '10'\n",
      "core        WARNING \tFixed incorrect tyre stint information for driver '87'\n",
      "core        WARNING \tFixed incorrect tyre stint information for driver '27'\n",
      "core        WARNING \tFixed incorrect tyre stint information for driver '22'\n",
      "core        WARNING \tFixed incorrect tyre stint information for driver '18'\n",
      "core        WARNING \tFixed incorrect tyre stint information for driver '31'\n",
      "core        WARNING \tFixed incorrect tyre stint information for driver '12'\n",
      "core        WARNING \tFixed incorrect tyre stint information for driver '14'\n",
      "core        WARNING \tFixed incorrect tyre stint information for driver '55'\n",
      "core        WARNING \tFixed incorrect tyre stint information for driver '43'\n",
      "core        WARNING \tFixed incorrect tyre stint information for driver '6'\n",
      "req            INFO \tNo cached data found for car_data. Loading data...\n",
      "_api           INFO \tFetching car data...\n",
      "_api           INFO \tParsing car data...\n",
      "req            INFO \tData has been written to cache!\n",
      "req            INFO \tNo cached data found for position_data. Loading data...\n",
      "_api           INFO \tFetching position data...\n",
      "_api           INFO \tParsing position data...\n",
      "_api        WARNING \tDriver 241: Position data is incomplete!\n",
      "_api        WARNING \tDriver 242: Position data is incomplete!\n",
      "_api        WARNING \tDriver 243: Position data is incomplete!\n",
      "req            INFO \tData has been written to cache!\n",
      "req            INFO \tNo cached data found for weather_data. Loading data...\n",
      "_api           INFO \tFetching weather data...\n",
      "req            INFO \tData has been written to cache!\n",
      "req            INFO \tNo cached data found for race_control_messages. Loading data...\n",
      "_api           INFO \tFetching race control messages...\n",
      "req            INFO \tData has been written to cache!\n",
      "core           INFO \tFinished loading data for 20 drivers: ['81', '4', '16', '1', '63', '23', '44', '30', '5', '10', '87', '27', '22', '18', '31', '12', '14', '55', '43', '6']\n"
     ]
    },
    {
     "name": "stdout",
     "output_type": "stream",
     "text": [
      "    Position Abbreviation  Points    Status  Laps  GridPosition  \\\n",
      "81       1.0          PIA    25.0  Finished  44.0           2.0   \n",
      "4        2.0          NOR    18.0  Finished  44.0           1.0   \n",
      "16       3.0          LEC    15.0  Finished  44.0           3.0   \n",
      "1        4.0          VER    12.0  Finished  44.0           4.0   \n",
      "63       5.0          RUS    10.0  Finished  44.0           6.0   \n",
      "23       6.0          ALB     8.0  Finished  44.0           5.0   \n",
      "44       7.0          HAM     6.0  Finished  44.0          18.0   \n",
      "30       8.0          LAW     4.0  Finished  44.0           9.0   \n",
      "5        9.0          BOR     2.0  Finished  44.0          10.0   \n",
      "10      10.0          GAS     1.0  Finished  44.0          13.0   \n",
      "87      11.0          BEA     0.0  Finished  44.0          12.0   \n",
      "27      12.0          HUL     0.0  Finished  44.0          14.0   \n",
      "22      13.0          TSU     0.0  Finished  44.0           7.0   \n",
      "18      14.0          STR     0.0  Finished  44.0          16.0   \n",
      "31      15.0          OCO     0.0  Finished  44.0          11.0   \n",
      "12      16.0          ANT     0.0  Finished  44.0          19.0   \n",
      "14      17.0          ALO     0.0  Finished  44.0          20.0   \n",
      "55      18.0          SAI     0.0  Finished  44.0          17.0   \n",
      "43      19.0          COL     0.0  Finished  44.0          15.0   \n",
      "6       20.0          HAD     0.0    Lapped  43.0           8.0   \n",
      "\n",
      "                     Time  \n",
      "81 0 days 01:25:22.601000  \n",
      "4  0 days 00:00:03.415000  \n",
      "16 0 days 00:00:20.185000  \n",
      "1  0 days 00:00:21.731000  \n",
      "63 0 days 00:00:34.863000  \n",
      "23 0 days 00:00:39.926000  \n",
      "44 0 days 00:00:40.679000  \n",
      "30 0 days 00:00:52.033000  \n",
      "5  0 days 00:00:56.434000  \n",
      "10 0 days 00:01:12.714000  \n",
      "87 0 days 00:01:13.145000  \n",
      "27 0 days 00:01:13.628000  \n",
      "22 0 days 00:01:15.395000  \n",
      "18 0 days 00:01:19.831000  \n",
      "31 0 days 00:01:26.063000  \n",
      "12 0 days 00:01:26.721000  \n",
      "14 0 days 00:01:27.924000  \n",
      "55 0 days 00:01:32.024000  \n",
      "43 0 days 00:01:35.250000  \n",
      "6  0 days 00:00:12.942000  \n"
     ]
    }
   ],
   "source": [
    "session = fastf1.get_session(2025, 'Belgian Grand Prix', 'R')\n",
    "session.load()\n",
    "print(session.results[['Position', 'Abbreviation', 'Points', 'Status', 'Laps', 'GridPosition', 'Time']])\n"
   ]
  },
  {
   "cell_type": "code",
   "execution_count": 10,
   "id": "d5f417f8",
   "metadata": {},
   "outputs": [
    {
     "name": "stdout",
     "output_type": "stream",
     "text": [
      "                     Date      RPM  Speed  nGear  Throttle  Brake  DRS Source  \\\n",
      "0 2023-04-01 06:06:16.312  11080.0  313.0      8     100.0  False   12    car   \n",
      "1 2023-04-01 06:06:16.512  11136.0  315.0      8     100.0  False   12    car   \n",
      "2 2023-04-01 06:06:16.832  11208.0  317.0      8     100.0  False   12    car   \n",
      "3 2023-04-01 06:06:17.192  11327.0  319.0      8     100.0  False   12    car   \n",
      "4 2023-04-01 06:06:17.352  11250.0  319.0      8     100.0  False   12    car   \n",
      "\n",
      "                    Time            SessionTime   Distance  \n",
      "0 0 days 00:00:00.069000 0 days 01:20:49.262000   5.999167  \n",
      "1 0 days 00:00:00.269000 0 days 01:20:49.462000  23.499167  \n",
      "2 0 days 00:00:00.589000 0 days 01:20:49.782000  51.676944  \n",
      "3 0 days 00:00:00.949000 0 days 01:20:50.142000  83.576944  \n",
      "4 0 days 00:00:01.109000 0 days 01:20:50.302000  97.754722  \n"
     ]
    },
    {
     "name": "stderr",
     "output_type": "stream",
     "text": [
      "C:\\Users\\Soham\\AppData\\Roaming\\Python\\Python313\\site-packages\\fastf1\\core.py:3183: FutureWarning: pick_driver is deprecated and will be removed in a future release. Use pick_drivers instead.\n",
      "  warnings.warn((\"pick_driver is deprecated and will be removed\"\n"
     ]
    }
   ],
   "source": [
    "laps = session.laps.pick_driver('VER')\n",
    "lap = laps.pick_fastest()\n",
    "tel = lap.get_car_data().add_distance()\n",
    "print(tel.head())"
   ]
  },
  {
   "cell_type": "code",
   "execution_count": 11,
   "id": "46748cf4",
   "metadata": {},
   "outputs": [
    {
     "name": "stdout",
     "output_type": "stream",
     "text": [
      "                    Time  AirTemp  Humidity  Pressure  Rainfall  TrackTemp  \\\n",
      "0 0 days 00:00:19.203000     14.5      65.0    1019.0      True       20.9   \n",
      "1 0 days 00:01:19.202000     14.4      66.0    1019.0      True       20.4   \n",
      "2 0 days 00:02:19.202000     14.4      66.0    1019.0      True       20.3   \n",
      "3 0 days 00:03:19.201000     14.4      66.0    1019.0      True       20.3   \n",
      "4 0 days 00:04:19.200000     14.3      65.0    1019.2     False       20.5   \n",
      "\n",
      "   WindDirection  WindSpeed  \n",
      "0              0        0.8  \n",
      "1            122        1.2  \n",
      "2            295        1.2  \n",
      "3            346        0.8  \n",
      "4            151        1.5  \n"
     ]
    }
   ],
   "source": [
    "print(session.weather_data.head())"
   ]
  },
  {
   "cell_type": "code",
   "execution_count": 14,
   "id": "2bbaaeff",
   "metadata": {},
   "outputs": [
    {
     "name": "stdout",
     "output_type": "stream",
     "text": [
      "                  Time Category  \\\n",
      "0  2023-04-01 04:45:51    Other   \n",
      "1  2023-04-01 04:43:52    Other   \n",
      "2  2023-04-01 04:45:51    Other   \n",
      "3  2023-04-01 05:00:00     Flag   \n",
      "4  2023-04-01 05:04:31     Flag   \n",
      "..                 ...      ...   \n",
      "60 2023-04-01 06:15:42     Flag   \n",
      "61 2023-04-01 06:15:49     Flag   \n",
      "62 2023-04-01 06:16:17     Flag   \n",
      "63 2023-04-01 06:16:19     Flag   \n",
      "64 2023-04-01 06:16:26     Flag   \n",
      "\n",
      "                                          Message Status    Flag   Scope  \\\n",
      "0   RISK OF RAIN FOR F1 QUALIFYING SESSION IS 90%   None    None    None   \n",
      "1   LIGHT BLUE HEAD PADDING MATERIAL MUST BE USED   None    None    None   \n",
      "2   RISK OF RAIN FOR F1 QUALIFYING SESSION IS 90%   None    None    None   \n",
      "3                     GREEN LIGHT - PIT EXIT OPEN   None   GREEN   Track   \n",
      "4                       YELLOW IN TRACK SECTOR 19   None  YELLOW  Sector   \n",
      "..                                            ...    ...     ...     ...   \n",
      "60                        CLEAR IN TRACK SECTOR 7   None   CLEAR  Sector   \n",
      "61                       CLEAR IN TRACK SECTOR 18   None   CLEAR  Sector   \n",
      "62                        CLEAR IN TRACK SECTOR 6   None   CLEAR  Sector   \n",
      "63                      YELLOW IN TRACK SECTOR 13   None  YELLOW  Sector   \n",
      "64                       CLEAR IN TRACK SECTOR 13   None   CLEAR  Sector   \n",
      "\n",
      "    Sector RacingNumber   Lap  \n",
      "0      NaN         None  None  \n",
      "1      NaN         None  None  \n",
      "2      NaN         None  None  \n",
      "3      NaN         None  None  \n",
      "4     19.0         None  None  \n",
      "..     ...          ...   ...  \n",
      "60     7.0         None  None  \n",
      "61    18.0         None  None  \n",
      "62     6.0         None  None  \n",
      "63    13.0         None  None  \n",
      "64    13.0         None  None  \n",
      "\n",
      "[65 rows x 9 columns]\n"
     ]
    }
   ],
   "source": [
    "print(session.race_control_messages)"
   ]
  },
  {
   "cell_type": "code",
   "execution_count": null,
   "id": "83f56f35",
   "metadata": {},
   "outputs": [
    {
     "name": "stdout",
     "output_type": "stream",
     "text": [
      "Index(['Time', 'Driver', 'DriverNumber', 'LapTime', 'LapNumber', 'Stint',\n",
      "       'PitOutTime', 'PitInTime', 'Sector1Time', 'Sector2Time', 'Sector3Time',\n",
      "       'Sector1SessionTime', 'Sector2SessionTime', 'Sector3SessionTime',\n",
      "       'SpeedI1', 'SpeedI2', 'SpeedFL', 'SpeedST', 'IsPersonalBest',\n",
      "       'Compound', 'TyreLife', 'FreshTyre', 'Team', 'LapStartTime',\n",
      "       'LapStartDate', 'TrackStatus', 'Position', 'Deleted', 'DeletedReason',\n",
      "       'FastF1Generated', 'IsAccurate'],\n",
      "      dtype='object')\n"
     ]
    }
   ],
   "source": [
    "print(session.laps.columns)"
   ]
  },
  {
   "cell_type": "code",
   "execution_count": 38,
   "id": "33ceb445",
   "metadata": {},
   "outputs": [
    {
     "name": "stderr",
     "output_type": "stream",
     "text": [
      "core           INFO \tLoading data for Monaco Grand Prix - Race [v3.6.0]\n",
      "req            INFO \tUsing cached data for session_info\n",
      "req            INFO \tUsing cached data for driver_info\n",
      "req            INFO \tUsing cached data for session_status_data\n",
      "req            INFO \tUsing cached data for lap_count\n",
      "req            INFO \tUsing cached data for track_status_data\n",
      "req            INFO \tUsing cached data for _extended_timing_data\n",
      "req            INFO \tUsing cached data for timing_app_data\n",
      "core           INFO \tProcessing timing data...\n",
      "req            INFO \tUsing cached data for car_data\n",
      "req            INFO \tUsing cached data for position_data\n",
      "req            INFO \tUsing cached data for weather_data\n",
      "req            INFO \tUsing cached data for race_control_messages\n",
      "core        WARNING \tDriver 33 completed the race distance 00:00.058000 before the recorded end of the session.\n",
      "core           INFO \tFinished loading data for 20 drivers: ['33', '55', '4', '11', '5', '10', '44', '18', '31', '99', '7', '3', '14', '63', '6', '22', '9', '47', '77', '16']\n"
     ]
    },
    {
     "name": "stdout",
     "output_type": "stream",
     "text": [
      "     Driver  LapNumber             PitOutTime              PitInTime\n",
      "33      VER       34.0                    NaT 0 days 01:16:10.012000\n",
      "34      VER       35.0 0 days 01:16:33.471000                    NaT\n",
      "109     SAI       32.0                    NaT 0 days 01:13:47.767000\n",
      "110     SAI       33.0 0 days 01:14:11.660000                    NaT\n",
      "185     NOR       30.0                    NaT 0 days 01:11:21.265000\n",
      "186     NOR       31.0 0 days 01:11:44.129000                    NaT\n",
      "268     PER       35.0                    NaT 0 days 01:17:43.911000\n",
      "269     PER       36.0 0 days 01:18:08.209000                    NaT\n",
      "342     VET       31.0                    NaT 0 days 01:12:42.271000\n",
      "343     VET       32.0 0 days 01:13:06.619000                    NaT\n",
      "419     GAS       30.0                    NaT 0 days 01:11:23.122000\n",
      "420     GAS       31.0 0 days 01:11:47.287000                    NaT\n",
      "496     HAM       29.0                    NaT 0 days 01:10:07.703000\n",
      "497     HAM       30.0 0 days 01:10:31.366000                    NaT\n",
      "534     HAM       67.0                    NaT 0 days 01:58:47.992000\n",
      "535     HAM       68.0 0 days 01:59:11.998000                    NaT\n",
      "603     STR       58.0                    NaT 0 days 01:47:28.637000\n",
      "604     STR       59.0 0 days 01:47:52.413000                    NaT\n",
      "659     OCO       37.0                    NaT 0 days 01:20:48.031000\n",
      "660     OCO       38.0 0 days 01:21:11.730000                    NaT\n",
      "732     GIO       33.0                    NaT 0 days 01:15:42.535000\n",
      "733     GIO       34.0 0 days 01:16:06.823000                    NaT\n",
      "819     RAI       43.0                    NaT 0 days 01:28:41.532000\n",
      "820     RAI       44.0 0 days 01:29:05.372000                    NaT\n",
      "889     RIC       36.0                    NaT 0 days 01:19:52.275000\n",
      "890     RIC       37.0 0 days 01:20:16.888000                    NaT\n",
      "975     ALO       45.0                    NaT 0 days 01:31:34.693000\n",
      "976     ALO       46.0 0 days 01:31:58.267000                    NaT\n",
      "1038    RUS       31.0                    NaT 0 days 01:13:46.871000\n",
      "1039    RUS       32.0 0 days 01:14:10.542000                    NaT\n",
      "1127    LAT       43.0                    NaT 0 days 01:29:23.882000\n",
      "1128    LAT       44.0 0 days 01:29:47.335000                    NaT\n",
      "1225    TSU       64.0                    NaT 0 days 01:56:09.006000\n",
      "1226    TSU       65.0 0 days 01:56:33.232000                    NaT\n",
      "1272    MAZ       34.0                    NaT 0 days 01:18:25.575000\n",
      "1273    MAZ       35.0 0 days 01:18:50.525000                    NaT\n",
      "1350    MSC       37.0                    NaT 0 days 01:22:43.663000\n",
      "1351    MSC       38.0 0 days 01:23:08.214000                    NaT\n",
      "1418    BOT       30.0                    NaT 0 days 01:11:12.283000\n"
     ]
    }
   ],
   "source": [
    "session = fastf1.get_session(2021, 'Monaco Grand Prix', 'R')\n",
    "session.load()\n",
    "\n",
    "laps = session.laps\n",
    "\n",
    "pit_laps = laps.loc[laps['PitOutTime'].notna() | laps['PitInTime'].notna(), \n",
    "                    ['Driver', 'LapNumber', 'PitOutTime', 'PitInTime']]\n",
    "\n",
    "print(pit_laps.head(100))"
   ]
  },
  {
   "cell_type": "code",
   "execution_count": 42,
   "id": "5af71a00",
   "metadata": {},
   "outputs": [
    {
     "name": "stderr",
     "output_type": "stream",
     "text": [
      "core           INFO \tLoading data for Monaco Grand Prix - Race [v3.6.0]\n",
      "req            INFO \tUsing cached data for session_info\n",
      "req            INFO \tUsing cached data for driver_info\n",
      "req            INFO \tUsing cached data for session_status_data\n",
      "req            INFO \tUsing cached data for lap_count\n",
      "req            INFO \tUsing cached data for track_status_data\n",
      "req            INFO \tUsing cached data for _extended_timing_data\n",
      "req            INFO \tUsing cached data for timing_app_data\n",
      "core           INFO \tProcessing timing data...\n",
      "req            INFO \tUsing cached data for car_data\n",
      "req            INFO \tUsing cached data for position_data\n",
      "req            INFO \tUsing cached data for weather_data\n",
      "req            INFO \tUsing cached data for race_control_messages\n",
      "core        WARNING \tDriver 33 completed the race distance 00:00.058000 before the recorded end of the session.\n",
      "core           INFO \tFinished loading data for 20 drivers: ['33', '55', '4', '11', '5', '10', '44', '18', '31', '99', '7', '3', '14', '63', '6', '22', '9', '47', '77', '16']\n"
     ]
    },
    {
     "name": "stdout",
     "output_type": "stream",
     "text": [
      "   Driver  LapNumber              PitInTime             PitOutTime  \\\n",
      "0     HAM       29.0 0 days 01:10:07.703000 0 days 01:10:31.366000   \n",
      "1     NOR       30.0 0 days 01:11:21.265000 0 days 01:11:44.129000   \n",
      "2     GAS       30.0 0 days 01:11:23.122000 0 days 01:11:47.287000   \n",
      "3     VET       31.0 0 days 01:12:42.271000 0 days 01:13:06.619000   \n",
      "4     RUS       31.0 0 days 01:13:46.871000 0 days 01:14:10.542000   \n",
      "5     SAI       32.0 0 days 01:13:47.767000 0 days 01:14:11.660000   \n",
      "6     GIO       33.0 0 days 01:15:42.535000 0 days 01:16:06.823000   \n",
      "7     VER       34.0 0 days 01:16:10.012000 0 days 01:16:33.471000   \n",
      "8     PER       35.0 0 days 01:17:43.911000 0 days 01:18:08.209000   \n",
      "9     MAZ       34.0 0 days 01:18:25.575000 0 days 01:18:50.525000   \n",
      "10    RIC       36.0 0 days 01:19:52.275000 0 days 01:20:16.888000   \n",
      "11    OCO       37.0 0 days 01:20:48.031000 0 days 01:21:11.730000   \n",
      "12    MSC       37.0 0 days 01:22:43.663000 0 days 01:23:08.214000   \n",
      "13    RAI       43.0 0 days 01:28:41.532000 0 days 01:29:05.372000   \n",
      "14    LAT       43.0 0 days 01:29:23.882000 0 days 01:29:47.335000   \n",
      "15    ALO       45.0 0 days 01:31:34.693000 0 days 01:31:58.267000   \n",
      "16    STR       58.0 0 days 01:47:28.637000 0 days 01:47:52.413000   \n",
      "17    TSU       64.0 0 days 01:56:09.006000 0 days 01:56:33.232000   \n",
      "18    HAM       67.0 0 days 01:58:47.992000 0 days 01:59:11.998000   \n",
      "\n",
      "          PitStopDuration  \n",
      "0  0 days 00:00:23.663000  \n",
      "1  0 days 00:00:22.864000  \n",
      "2  0 days 00:00:24.165000  \n",
      "3  0 days 00:00:24.348000  \n",
      "4  0 days 00:00:23.671000  \n",
      "5  0 days 00:00:23.893000  \n",
      "6  0 days 00:00:24.288000  \n",
      "7  0 days 00:00:23.459000  \n",
      "8  0 days 00:00:24.298000  \n",
      "9  0 days 00:00:24.950000  \n",
      "10 0 days 00:00:24.613000  \n",
      "11 0 days 00:00:23.699000  \n",
      "12 0 days 00:00:24.551000  \n",
      "13 0 days 00:00:23.840000  \n",
      "14 0 days 00:00:23.453000  \n",
      "15 0 days 00:00:23.574000  \n",
      "16 0 days 00:00:23.776000  \n",
      "17 0 days 00:00:24.226000  \n",
      "18 0 days 00:00:24.006000  \n"
     ]
    }
   ],
   "source": [
    "session = fastf1.get_session(2021, 'Monaco Grand Prix', 'R')\n",
    "session.load()\n",
    "laps = session.laps\n",
    "\n",
    "pit_in = laps.dropna(subset=['PitInTime'])[['Driver', 'LapNumber', 'PitInTime']]\n",
    "pit_out = laps.dropna(subset=['PitOutTime'])[['Driver', 'LapNumber', 'PitOutTime']]\n",
    "\n",
    "\n",
    "pit_out['LapNumber'] = pit_out['LapNumber'] - 1  \n",
    "pitstops = pd.merge(pit_in, pit_out, on=['Driver', 'LapNumber'], how='inner')\n",
    "pitstops['PitStopDuration'] = pitstops['PitOutTime'] - pitstops['PitInTime']\n",
    "\n",
    "\n",
    "pitstops = pitstops[['Driver', 'LapNumber', 'PitInTime', 'PitOutTime', 'PitStopDuration']]\n",
    "pitstops = pitstops.sort_values(by='PitInTime').reset_index(drop=True)\n",
    "\n",
    "print(pitstops.head(18))\n"
   ]
  },
  {
   "cell_type": "code",
   "execution_count": null,
   "id": "f7428ffe",
   "metadata": {},
   "outputs": [],
   "source": []
  }
 ],
 "metadata": {
  "kernelspec": {
   "display_name": "Python 3",
   "language": "python",
   "name": "python3"
  },
  "language_info": {
   "codemirror_mode": {
    "name": "ipython",
    "version": 3
   },
   "file_extension": ".py",
   "mimetype": "text/x-python",
   "name": "python",
   "nbconvert_exporter": "python",
   "pygments_lexer": "ipython3",
   "version": "3.13.6"
  }
 },
 "nbformat": 4,
 "nbformat_minor": 5
}
